{
 "cells": [
  {
   "cell_type": "code",
   "execution_count": null,
   "metadata": {},
   "outputs": [],
   "source": [
    "import numpy as np\n",
    "import pandas as pd\n",
    "import matplotlib as mpl\n",
    "import seaborn as sb\n",
    "import matplotlib.pyplot as plt\n",
    "from datetime import datetime\n",
    "import math\n",
    "from IPython.display import display, HTML\n",
    "from datetime import date\n",
    "import multiprocessing\n",
    "\n",
    "import os"
   ]
  },
  {
   "cell_type": "code",
   "execution_count": null,
   "metadata": {},
   "outputs": [],
   "source": [
    "my_bucket = os.getenv('WORKSPACE_BUCKET')\n",
    "CDR_version=os.getenv(\"WORKSPACE_CDR\")"
   ]
  },
  {
   "cell_type": "markdown",
   "metadata": {},
   "source": [
    "### Curate Medication"
   ]
  },
  {
   "cell_type": "code",
   "execution_count": null,
   "metadata": {},
   "outputs": [],
   "source": [
    "# This query represents dataset \"MDD_nopsychremoved_drugs\" for domain \"drug\" and was generated for All of Us Registered Tier Dataset v7\n",
    "import pandas\n",
    "import os\n",
    "\n",
    "dataset_78105840_drug_sql = \"\"\"\n",
    "    SELECT\n",
    "        d_exposure.person_id,\n",
    "        d_standard_concept.concept_name as standard_concept_name,\n",
    "        d_exposure.drug_exposure_start_datetime,\n",
    "        d_exposure.refills,\n",
    "        d_exposure.quantity,\n",
    "        d_exposure.dose_unit_source_value \n",
    "    FROM\n",
    "        ( SELECT\n",
    "            * \n",
    "        FROM\n",
    "            `\"\"\" + os.environ[\"WORKSPACE_CDR\"] + \"\"\".drug_exposure` d_exposure \n",
    "        WHERE\n",
    "            (\n",
    "                drug_concept_id IN  (\n",
    "                    SELECT\n",
    "                        DISTINCT ca.descendant_id \n",
    "                    FROM\n",
    "                        `\"\"\" + os.environ[\"WORKSPACE_CDR\"] + \"\"\".cb_criteria_ancestor` ca \n",
    "                    JOIN\n",
    "                        (\n",
    "                            select\n",
    "                                distinct c.concept_id \n",
    "                            FROM\n",
    "                                `\"\"\" + os.environ[\"WORKSPACE_CDR\"] + \"\"\".cb_criteria` c \n",
    "                            JOIN\n",
    "                                (\n",
    "                                    select\n",
    "                                        cast(cr.id as string) as id \n",
    "                                    FROM\n",
    "                                        `\"\"\" + os.environ[\"WORKSPACE_CDR\"] + \"\"\".cb_criteria` cr \n",
    "                                    WHERE\n",
    "                                        concept_id IN (\n",
    "                                            19080226, 19136626, 35603277, 40234834, 43560354, 44507700, 46275300, 703470, 703547, 705755, 710062, 712615, 713109, 714684, 715259, 715939, 716968, 717607, 721724, 722031, 725131, 733896, 735979, 738156, 739138, 743670, 750982, 751412, 754270, 755695, 757688, 766209, 766814, 778268, 781705, 785788, 794147, 797617, 798834, 800878\n",
    "                                        ) \n",
    "                                        AND full_text LIKE '%_rank1]%'\n",
    "                                ) a \n",
    "                                    ON (\n",
    "                                        c.path LIKE CONCAT('%.',\n",
    "                                    a.id,\n",
    "                                    '.%') \n",
    "                                    OR c.path LIKE CONCAT('%.',\n",
    "                                    a.id) \n",
    "                                    OR c.path LIKE CONCAT(a.id,\n",
    "                                    '.%') \n",
    "                                    OR c.path = a.id) \n",
    "                                WHERE\n",
    "                                    is_standard = 1 \n",
    "                                    AND is_selectable = 1\n",
    "                                ) b \n",
    "                                    ON (\n",
    "                                        ca.ancestor_id = b.concept_id\n",
    "                                    )\n",
    "                            )\n",
    "                        )  \n",
    "                        AND (\n",
    "                            d_exposure.PERSON_ID IN (\n",
    "                                SELECT\n",
    "                                    distinct person_id  \n",
    "                            FROM\n",
    "                                `\"\"\" + os.environ[\"WORKSPACE_CDR\"] + \"\"\".cb_search_person` cb_search_person  \n",
    "                            WHERE\n",
    "                                cb_search_person.person_id IN (\n",
    "                                    SELECT\n",
    "                                        criteria.person_id \n",
    "                                    FROM\n",
    "                                        (SELECT\n",
    "                                            DISTINCT person_id,\n",
    "                                            entry_date,\n",
    "                                            concept_id \n",
    "                                        FROM\n",
    "                                            `\"\"\" + os.environ[\"WORKSPACE_CDR\"] + \"\"\".cb_search_all_events` \n",
    "                                        WHERE\n",
    "                                            (\n",
    "                                                concept_id IN (\n",
    "                                                    SELECT\n",
    "                                                        DISTINCT c.concept_id \n",
    "                                                    FROM\n",
    "                                                        `\"\"\" + os.environ[\"WORKSPACE_CDR\"] + \"\"\".cb_criteria` c \n",
    "                                                    JOIN\n",
    "                                                        (\n",
    "                                                            select\n",
    "                                                                cast(cr.id as string) as id \n",
    "                                                            FROM\n",
    "                                                                `\"\"\" + os.environ[\"WORKSPACE_CDR\"] + \"\"\".cb_criteria` cr \n",
    "                                                            WHERE\n",
    "                                                                concept_id IN (4031328, 4094358, 4262111, 4037669, 35615155, 4152280, 4282316, 35615153, 35615152, 4001733, 4324945, 4298317) \n",
    "                                                                AND full_text LIKE '%_rank1]%'\n",
    "                                                        ) a \n",
    "                                                            ON (\n",
    "                                                                c.path LIKE CONCAT('%.',\n",
    "                                                            a.id,\n",
    "                                                            '.%') \n",
    "                                                            OR c.path LIKE CONCAT('%.',\n",
    "                                                            a.id) \n",
    "                                                            OR c.path LIKE CONCAT(a.id,\n",
    "                                                            '.%') \n",
    "                                                            OR c.path = a.id) \n",
    "                                                        WHERE\n",
    "                                                            is_standard = 1 \n",
    "                                                            AND is_selectable = 1\n",
    "                                                        ) \n",
    "                                                        AND is_standard = 1 \n",
    "                                                )\n",
    "                                            ) criteria \n",
    "                                        ) ))\n",
    "                            ) d_exposure \n",
    "                        LEFT JOIN\n",
    "                            `\"\"\" + os.environ[\"WORKSPACE_CDR\"] + \"\"\".concept` d_standard_concept \n",
    "                                ON d_exposure.drug_concept_id = d_standard_concept.concept_id\"\"\"\n",
    "\n",
    "medication_df = pandas.read_gbq(\n",
    "    dataset_78105840_drug_sql,\n",
    "    dialect=\"standard\",\n",
    "    use_bqstorage_api=(\"BIGQUERY_STORAGE_API_ENABLED\" in os.environ),\n",
    "    progress_bar_type=\"tqdm_notebook\")"
   ]
  },
  {
   "cell_type": "code",
   "execution_count": null,
   "metadata": {},
   "outputs": [],
   "source": [
    "import pandas as pd\n",
    "import numpy as np \n",
    "import datetime"
   ]
  },
  {
   "cell_type": "code",
   "execution_count": null,
   "metadata": {},
   "outputs": [],
   "source": [
    "medication_df['drug'] = medication_df.standard_concept_name.apply(lambda x: x.split(' ', 1)[0])\n",
    "medication_df['drug'] = medication_df['drug'].str.replace('\\d+', '')\n",
    "medication_df = medication_df[~medication_df['drug'].str.contains(r'\\d')]\n",
    "medication_df = medication_df[~medication_df['drug'].isin([\"PMDD\" , \"Sensor\", \"Sprinkle\", \"Smoking\", \"sulpiride\"])]\n",
    "medication_df['drug'] = medication_df['drug'].str.lower()\n",
    "\n",
    "medication_df['category'] = (np.select([medication_df['drug'].isin(['citalopram', 'escitalopram', 'fluoxetine', 'fluvoxamine', 'paroxetine', 'sertraline']),\n",
    "                                       medication_df['drug'].isin(['desvenlafaxine', 'duloxetine', 'levomilnacipran', 'milnacipran', 'venlafaxine']),\n",
    "                                       medication_df['drug'].isin(['bupropion', 'mirtazapine']),\n",
    "                                       medication_df['drug'].isin(['nefazodone', 'trazodone', 'vilazodone', 'vortioxetine']),\n",
    "                                       medication_df['drug'].isin(['imipramine', 'amitriptyline', 'amoxapine', \n",
    "                                                                   'clomipramine', 'desipramine', 'doxepin',\n",
    "                                                                   'maprotiline', 'nortriptyline', 'protriptyline','trimipramine']),\n",
    "                                       medication_df['drug'].isin(['isocarboxazid', 'phenelzine', 'selegiline', 'tranylcypromine']),\n",
    "                                       medication_df['drug'].isin(['sulrpide', 'aripiprazole', 'quetiapine', 'olanzapine',\n",
    "                                                                   'clozapine', 'ziprasidone', 'risperidone'])]\n",
    "                                      ,['SSRI','SNRI','Atypical','Serotonin','Tricyclic','MAOIs','Antipsychotics']))\n",
    "# get the ids\n",
    "MDDpatientIDs = medication_df.drop_duplicates(subset=['person_id'])['person_id']\n",
    "\n",
    "#remove individuals who has duplicated GenericName and OrderStartDate \n",
    "MDD_med_dupsRemoved = medication_df[~(medication_df.duplicated(subset=['person_id', 'drug_exposure_start_datetime','category']))]\n",
    "MDD_med_dupsRemoved = MDD_med_dupsRemoved.dropna(subset=['person_id'])"
   ]
  },
  {
   "cell_type": "markdown",
   "metadata": {},
   "source": [
    "### Treatment Resistant Depression"
   ]
  },
  {
   "cell_type": "code",
   "execution_count": null,
   "metadata": {},
   "outputs": [],
   "source": [
    "group_medUse = MDD_med_dupsRemoved.groupby(['person_id', \n",
    "                                                 'drug_exposure_start_datetime'])['drug'].apply(list).apply(lambda drug: \",\".join(drug)) \n",
    "\n",
    "medInfo_MDDpatients = {}\n",
    "for patient in MDDpatientIDs:\n",
    "    medInfo_MDDpatients[patient] = pd.DataFrame(group_medUse[patient]).reset_index()\n",
    "    #if you have cell where the values are the same i.e. SNRI, SNRI then remove the duplicate so its just SNRI\n",
    "    medInfo_MDDpatients[patient]['drug'] = medInfo_MDDpatients[patient]['drug'].apply(lambda s: ','.join(set(s.split(','))))\n",
    "treatment_resistant = medInfo_MDDpatients.copy()"
   ]
  },
  {
   "cell_type": "code",
   "execution_count": null,
   "metadata": {},
   "outputs": [],
   "source": [
    "#calculating the adherence score for each patient\n",
    "adherence_score_for_patient = {}\n",
    "for patient in list(treatment_resistant.keys()):\n",
    "    treatment_resistant[patient][\"diff\"] = treatment_resistant[patient][\"drug_exposure_start_datetime\"].diff().shift(-1)\n",
    "    total_prescription_interval = len(treatment_resistant[patient][\"drug\"]) - 1\n",
    "    \n",
    "    times_lessthan_maxGap = (treatment_resistant[patient][\"diff\"] <= pd.Timedelta(\"98 days\")).sum()\n",
    "    adherence_score_for_patient[patient] = times_lessthan_maxGap/total_prescription_interval\n",
    "    \n",
    "# getting all the patients that pass adherence threshold of 0.75\n",
    "pass_adherence_score = {}\n",
    "for k, v in list(adherence_score_for_patient.items()):\n",
    "    if v > 0.75:\n",
    "         pass_adherence_score[k] = v"
   ]
  },
  {
   "cell_type": "code",
   "execution_count": null,
   "metadata": {},
   "outputs": [],
   "source": [
    "for patient in list(treatment_resistant.keys()):\n",
    "    #making a column to keep track of the minimal length of each drug \n",
    "    treatment_resistant[patient][\"diff\"] = treatment_resistant[patient][\"drug_exposure_start_datetime\"].diff().shift(-1)\n",
    "    #make the last drug a lenght of 60 days so that it doesn't get removed\n",
    "    treatment_resistant[patient][\"diff\"].iloc[-1] = pd.Timedelta(\"60 days\")\n",
    "    treatment_resistant[patient][[\"no_meets_min_length\", \"no_meets_max_length\"]] = None\n",
    "    \n",
    "    for i in range(len(treatment_resistant[patient])):\n",
    "        #if the minimal length is more than or equal to 6 weeks than it meets criteria and we add a 1\n",
    "        if (treatment_resistant[patient]['diff'].loc[i] >= pd.Timedelta(\"42 days\")):\n",
    "            treatment_resistant[patient]['no_meets_min_length'].loc[i] = 0\n",
    "        else:\n",
    "            treatment_resistant[patient]['no_meets_min_length'].loc[i] = 1\n",
    "    \n",
    "for patient in list(treatment_resistant.keys()):\n",
    "    for i in range(len(treatment_resistant[patient])-1):\n",
    "        if ((treatment_resistant[patient]['drug'].loc[i] != \n",
    "            treatment_resistant[patient]['drug'].loc[i+1]) & \n",
    "            (treatment_resistant[patient]['diff'].loc[i] >= pd.Timedelta(\"98 days\"))):\n",
    "            treatment_resistant[patient]['no_meets_max_length'].loc[i] = 1\n",
    "        else:\n",
    "            treatment_resistant[patient]['no_meets_max_length'].loc[i] = 0"
   ]
  },
  {
   "cell_type": "code",
   "execution_count": null,
   "metadata": {},
   "outputs": [],
   "source": [
    "#remove the drugs that are not at least 6 weeks and at most 14 weeks \n",
    "for patient in list(treatment_resistant.keys()):\n",
    "    treatment_resistant[patient] = treatment_resistant[patient].loc[(treatment_resistant[patient]['no_meets_min_length'] != 1)]\n",
    "    treatment_resistant[patient] = treatment_resistant[patient].loc[(treatment_resistant[patient]['no_meets_max_length'] != 1)]"
   ]
  },
  {
   "cell_type": "code",
   "execution_count": null,
   "metadata": {},
   "outputs": [],
   "source": [
    "# Determining Patients who 180 days = 6 months\n",
    "for patient in list(treatment_resistant.keys()):   \n",
    "    #remove the patients that only took one medication class\n",
    "    if (((treatment_resistant[patient]['drug_exposure_start_datetime'].iloc[-1] - \n",
    "        treatment_resistant[patient]['drug_exposure_start_datetime'].iloc[0]) < datetime.timedelta(days=180)) == True):\n",
    "        del treatment_resistant[patient]"
   ]
  },
  {
   "cell_type": "code",
   "execution_count": null,
   "metadata": {},
   "outputs": [],
   "source": [
    "TRD = treatment_resistant.copy()\n",
    "for patient in list(TRD.keys()):\n",
    "    if len(set(TRD[patient]['drug'])) < 3:\n",
    "        del TRD[patient]\n",
    "final_TRD_patients = set(list(pass_adherence_score.keys())) & set(list(TRD.keys()))\n",
    "for patient in list(TRD.keys()):\n",
    "    if patient not in final_TRD_patients:\n",
    "        del TRD[patient]"
   ]
  },
  {
   "cell_type": "code",
   "execution_count": null,
   "metadata": {},
   "outputs": [],
   "source": [
    "treat_res = pd.DataFrame({'PatientID': TRD.keys()})\n",
    "treat_res.to_csv('./TRD.csv')"
   ]
  },
  {
   "cell_type": "markdown",
   "metadata": {},
   "source": [
    "### Treatment Nonresponders"
   ]
  },
  {
   "cell_type": "code",
   "execution_count": null,
   "metadata": {},
   "outputs": [],
   "source": [
    "group_medUse = MDD_med_dupsRemoved.groupby(['person_id', 'drug_exposure_start_datetime'])['category'].apply(list).apply(lambda category: \",\".join(category))  \n",
    "\n",
    "medInfo_MDDpatients = {}\n",
    "for patient in MDDpatientIDs:\n",
    "    medInfo_MDDpatients[patient] = pd.DataFrame(group_medUse[patient]).reset_index()\n",
    "    #if you have cell where the values are the same i.e. SNRI, SNRI then remove the duplicate so its just SNRI\n",
    "    medInfo_MDDpatients[patient]['category'] = medInfo_MDDpatients[patient]['category'].apply(lambda s: ','.join(set(s.split(','))))"
   ]
  },
  {
   "cell_type": "code",
   "execution_count": null,
   "metadata": {},
   "outputs": [],
   "source": [
    "nonresponder = medInfo_MDDpatients.copy()"
   ]
  },
  {
   "cell_type": "code",
   "execution_count": null,
   "metadata": {},
   "outputs": [],
   "source": [
    "for patient in list(nonresponder.keys()):\n",
    "    #making a column to keep track of the minimal length of each drug \n",
    "    nonresponder[patient][\"diff\"] = nonresponder[patient][\"drug_exposure_start_datetime\"].diff().shift(-1)\n",
    "    #make the last drug a lenght of 60 days so that it doesn't get removed\n",
    "    nonresponder[patient][\"diff\"].iloc[-1] = pd.Timedelta(\"60 days\")\n",
    "    nonresponder[patient][[\"no_meets_min_length\", \"no_meets_max_length\"]] = None\n",
    "    \n",
    "    for i in range(len(nonresponder[patient])):\n",
    "        #if the minimal length is more than or equal to 6 weeks than it meets criteria and we add a 1\n",
    "        if (nonresponder[patient]['diff'].loc[i] >= pd.Timedelta(\"42 days\")):\n",
    "            nonresponder[patient]['no_meets_min_length'].loc[i] = 0\n",
    "        else:\n",
    "            nonresponder[patient]['no_meets_min_length'].loc[i] = 1\n",
    "    \n",
    "for patient in list(nonresponder.keys()):\n",
    "    for i in range(len(nonresponder[patient])-1):\n",
    "        if ((nonresponder[patient]['category'].loc[i] != \n",
    "            nonresponder[patient]['category'].loc[i+1]) & \n",
    "            (nonresponder[patient]['diff'].loc[i] >= pd.Timedelta(\"98 days\"))):\n",
    "            nonresponder[patient]['no_meets_max_length'].loc[i] = 1\n",
    "        else:\n",
    "            nonresponder[patient]['no_meets_max_length'].loc[i] = 0"
   ]
  },
  {
   "cell_type": "code",
   "execution_count": null,
   "metadata": {},
   "outputs": [],
   "source": [
    "# Step 3: Keep patients that have 1 or more medication classes i.e. switches\n",
    "for patient in list(nonresponder.keys()):   \n",
    "    #remove the patients that only took one medication class\n",
    "    if (len(nonresponder[patient]['category'].unique()) < 1):\n",
    "        del nonresponder[patient]\n",
    "\n",
    "# Step 4: Remove patients that don't have a record length greater than or equal to 6 months \n",
    "for patient in list(nonresponder.keys()):   \n",
    "    if ((nonresponder[patient]['drug_exposure_start_datetime'].iloc[-1] - \n",
    "        nonresponder[patient]['drug_exposure_start_datetime'].iloc[0]) < datetime.timedelta(days=180) == True):\n",
    "        del nonresponder[patient]\n",
    "        \n",
    "# Step 5: Remove if long term user of most recent medication class\n",
    "medInfo_2 = nonresponder.copy()\n",
    "\n",
    "treatment_nonresp_df = pd.DataFrame()\n",
    "for patient in list(medInfo_2.keys()): \n",
    "    count = 0\n",
    "    for medclass in medInfo_2[patient][\"category\"][::-1]:\n",
    "        if medInfo_2[patient][\"category\"].iloc[-1] == medclass:\n",
    "            count += 1\n",
    "        else: \n",
    "            break \n",
    "    treatment_nonresp_df = pd.concat([treatment_nonresp_df, pd.DataFrame([{'PatientId':patient, \n",
    "                                'Class': medInfo_2[patient][\"category\"].iloc[-1],\n",
    "                                'Count': count}])],\n",
    "                                     ignore_index = True)    \n",
    "treatment_nonresp_df = treatment_nonresp_df[treatment_nonresp_df['Count'] > 3]\n",
    "treatment_nonresp_df.to_csv('./nonresponders.csv')"
   ]
  },
  {
   "cell_type": "code",
   "execution_count": null,
   "metadata": {},
   "outputs": [],
   "source": [
    "ssri_nonresponders = treatment_nonresp[treatment_nonresp['Class'] == 'SSRI']\n",
    "snri_nonresponders = treatment_nonresp[treatment_nonresp['Class'] == 'SNRI']\n",
    "tricyclic_nonresponders = treatment_nonresp[treatment_nonresp['Class'] == 'Tricyclic']\n",
    "atypical_nonresponders = treatment_nonresp[treatment_nonresp['Class'] == 'Atypical']\n",
    "serotonin_nonresponders = treatment_nonresp[treatment_nonresp['Class'] == 'Serotonin']"
   ]
  },
  {
   "cell_type": "code",
   "execution_count": null,
   "metadata": {},
   "outputs": [],
   "source": [
    "ssri_nonresponders.to_csv('./ssri_nonresponders.csv')\n",
    "snri_nonresponders.to_csv('./snri_nonresponders.csv')\n",
    "tricyclic_nonresponders.to_csv('./tricyclic_nonresponders.csv')\n",
    "atypical_nonresponders.to_csv('./atypical_nonresponders.csv')\n",
    "serotonin_nonresponders.to_csv('./serotonin_nonresponders.csv')"
   ]
  },
  {
   "cell_type": "markdown",
   "metadata": {},
   "source": [
    "### Treatment Responder"
   ]
  },
  {
   "cell_type": "code",
   "execution_count": null,
   "metadata": {},
   "outputs": [],
   "source": [
    "group_medUse = MDD_med_dupsRemoved.groupby(['person_id', 'drug_exposure_start_datetime'])['category'].apply(list).apply(lambda category: \",\".join(category))  \n",
    "\n",
    "medInfo_MDDpatients = {}\n",
    "for patient in MDDpatientIDs:\n",
    "    medInfo_MDDpatients[patient] = pd.DataFrame(group_medUse[patient]).reset_index()\n",
    "    #if you have cell where the values are the same i.e. SNRI, SNRI then remove the duplicate so its just SNRI\n",
    "    medInfo_MDDpatients[patient]['category'] = medInfo_MDDpatients[patient]['category'].apply(lambda s: ','.join(set(s.split(','))))"
   ]
  },
  {
   "cell_type": "code",
   "execution_count": null,
   "metadata": {},
   "outputs": [],
   "source": [
    "#6 month of medication history\n",
    "medInfo_1 = medInfo_MDDpatients.copy()\n",
    "# Determining Patients who only used 1 medication class the whole time \n",
    "for patient in list(medInfo_1.keys()):   \n",
    "    #remove the patients that only took one medication class\n",
    "    if (((medInfo_1[patient]['drug_exposure_start_datetime'].iloc[-1] - \n",
    "        medInfo_1[patient]['drug_exposure_start_datetime'].iloc[0]) < datetime.timedelta(days=180)) == True) or (medInfo_1[patient].shape[0] == 1):\n",
    "        del medInfo_1[patient]\n",
    "        \n",
    "single_class_user = medInfo_1.copy() #six_month_ofData\n",
    "for patient in list(medInfo_1.keys()):\n",
    "    if (len(single_class_user[patient]['category'].unique()) != 1):\n",
    "        del single_class_user[patient]\n",
    "        \n",
    "single_class_user_df = pd.DataFrame()\n",
    "for patient in list(single_class_user.keys()):\n",
    "    single_class_user_df = pd.concat([single_class_user_df, \n",
    "                                      pd.DataFrame([{'PatientId':patient, \n",
    "                                                     'Class': single_class_user[patient][\"category\"].iloc[-1]}])],\n",
    "                                     ignore_index = True)\n",
    "single_class_user_df_2 = single_class_user_df[~single_class_user_df['Class'].str.contains(',')].reset_index(drop=True)\n",
    "\n",
    "responders = single_class_user_df_2.rename(columns={'PatientId': 'research_id'})\n",
    "responders['research_id'] = responders['research_id'].astype('int')\n",
    "responders = responders[~responders['Class'].isin(['0', 'Antipsychotics'])]\n",
    "responders.to_csv('./responders.csv')"
   ]
  },
  {
   "cell_type": "code",
   "execution_count": null,
   "metadata": {},
   "outputs": [],
   "source": [
    "ssri_responders = responders[responders['Class'] == 'SSRI']\n",
    "snri_responders = responders[responders['Class'] == 'SNRI']\n",
    "tricyclic_responders = responders[responders['Class'] == 'Tricyclic']\n",
    "atypical_responders = responders[responders['Class'] == 'Atypical']\n",
    "serotonin_responders = responders[responders['Class'] == 'Serotonin']"
   ]
  },
  {
   "cell_type": "code",
   "execution_count": null,
   "metadata": {},
   "outputs": [],
   "source": [
    "ssri_responders.to_csv('./ssri_responders.csv')\n",
    "snri_responders.to_csv('./snri_responders.csv')\n",
    "tricyclic_responders.to_csv('./tricyclic_responders.csv')\n",
    "atypical_responders.to_csv('./atypical_responders.csv')\n",
    "serotonin_responders.to_csv('./serotonin_responders.csv')"
   ]
  },
  {
   "cell_type": "code",
   "execution_count": null,
   "metadata": {},
   "outputs": [],
   "source": []
  },
  {
   "cell_type": "code",
   "execution_count": null,
   "metadata": {},
   "outputs": [],
   "source": []
  }
 ],
 "metadata": {
  "kernelspec": {
   "display_name": "Python 3",
   "language": "python",
   "name": "python3"
  },
  "language_info": {
   "codemirror_mode": {
    "name": "ipython",
    "version": 3
   },
   "file_extension": ".py",
   "mimetype": "text/x-python",
   "name": "python",
   "nbconvert_exporter": "python",
   "pygments_lexer": "ipython3",
   "version": "3.10.12"
  },
  "toc": {
   "base_numbering": 1,
   "nav_menu": {},
   "number_sections": true,
   "sideBar": true,
   "skip_h1_title": false,
   "title_cell": "Table of Contents",
   "title_sidebar": "Contents",
   "toc_cell": false,
   "toc_position": {},
   "toc_section_display": true,
   "toc_window_display": false
  }
 },
 "nbformat": 4,
 "nbformat_minor": 2
}
