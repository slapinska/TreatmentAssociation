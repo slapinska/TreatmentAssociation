{
 "cells": [
  {
   "cell_type": "code",
   "execution_count": null,
   "metadata": {},
   "outputs": [],
   "source": [
    "import numpy as np\n",
    "import pandas as pd\n",
    "import matplotlib as mpl\n",
    "import seaborn as sb\n",
    "import matplotlib.pyplot as plt\n",
    "from datetime import datetime\n",
    "import math\n",
    "from IPython.display import display, HTML\n",
    "from datetime import date\n",
    "import multiprocessing\n",
    "\n",
    "import os\n",
    "multiprocessing.cpu_count()"
   ]
  },
  {
   "cell_type": "code",
   "execution_count": null,
   "metadata": {},
   "outputs": [],
   "source": [
    "my_bucket = os.getenv('WORKSPACE_BUCKET')\n",
    "CDR_version=os.getenv(\"WORKSPACE_CDR\")"
   ]
  },
  {
   "cell_type": "markdown",
   "metadata": {},
   "source": [
    "### Phecode definition for MDD (296.22)\n",
    "also, get phecodes for comorbidity exclusion: 296.1, 295.1, 317, 316"
   ]
  },
  {
   "cell_type": "code",
   "execution_count": null,
   "metadata": {},
   "outputs": [],
   "source": [
    "rollup_map=pd.read_csv(\"phecode_rollup_map.csv\")\n",
    "ICD9_exclude=pd.read_csv(\"ICD9PhecodeExclude.csv\")\n",
    "ICD9_IC10_Phecodes=pd.read_csv(\"phecode_map_icd9_10.csv\")\n",
    "\n",
    "# strip off extra column \n",
    "ICD9_IC10_Phecodes = ICD9_IC10_Phecodes.iloc[:, 1:]\n",
    "phecode_info=pd.read_csv(\"pheinfo.csv\")\n",
    "\n",
    "phecodes_list=ICD9_IC10_Phecodes[\"phecode\"].unique().tolist()"
   ]
  },
  {
   "cell_type": "code",
   "execution_count": null,
   "metadata": {},
   "outputs": [],
   "source": [
    "query = (\"\"\"\n",
    "SELECT distinct observation_source_value, vocabulary_id\n",
    "FROM \n",
    "    (SELECT DISTINCT person_id, observation_source_concept_id, observation_source_value, observation_date\n",
    "        FROM `\"\"\"+ str(CDR_version) +\"\"\".observation`) AS obs\n",
    "     INNER JOIN \n",
    "        (SELECT DISTINCT concept_id, concept_name, concept_code, vocabulary_id \n",
    "            FROM `\"\"\"+str(CDR_version)+\"\"\".concept`\n",
    "            where (vocabulary_id ='ICD9CM') or \n",
    "            (vocabulary_id ='ICD10CM')) as concept \n",
    "            on concept.concept_id = obs.observation_source_concept_id\n",
    "\"\"\")\n",
    "observation_codes = pd.read_gbq(query, dialect=\"standard\")\n",
    "\n",
    "observation_icd9 = observation_codes[observation_codes.vocabulary_id==\"ICD9CM\"][\"observation_source_value\"]\n",
    "observation_icd10 = observation_codes[observation_codes.vocabulary_id==\"ICD10CM\"][\"observation_source_value\"]"
   ]
  },
  {
   "cell_type": "code",
   "execution_count": null,
   "metadata": {},
   "outputs": [],
   "source": [
    "def getPhecodeParticipants(phecodes_batch, return_dict, phecodes_list, CDR_version, num_processes):\n",
    "    \"\"\"\n",
    "    Batching function for parallel extraction of participant Phecodes \n",
    "    ======================================================================================================\n",
    "    phecodes_batch: Pandas Dataframe of Phecodes \n",
    "    return_dict: \n",
    "    phecodes_list: List of phecodes to process \n",
    "    CDR_version: String of current cdr version \n",
    "    ## need to include rollup \n",
    "    \"\"\"\n",
    "    size = int(np.ceil(len(phecodes_list)/num_processes))\n",
    "    phecodes_code_list=phecodes_list[phecodes_batch*size:(phecodes_batch+1)*size]\n",
    "    # changing for 4 cores \n",
    "    #phecodes_code_list=phecodes_list[phecodes_batch*235:(phecodes_batch+1)*235]\n",
    "    # for particular codes, there are rollups, so we need to count on the fly \n",
    "    # note, there are icd9 codes that live in observation: \n",
    "    phecodes=ICD9_IC10_Phecodes[ICD9_IC10_Phecodes[\"phecode\"].isin(phecodes_code_list)]\n",
    "    \n",
    "    ## ICD Codes in condition_occurrence (if a code is in observation, then it shouldn't query anything here)\n",
    "    icd9_codes_cond=phecodes[phecodes['vocabulary_id']=='ICD9CM'][\"code\"].tolist()\n",
    "    #\n",
    "    icd9_codes_cond_str=\"'\"+\"','\".join(icd9_codes_cond)+\"'\"\n",
    "    \n",
    "    icd10_codes_cond=phecodes[phecodes['vocabulary_id']=='ICD10CM'][\"code\"].tolist()\n",
    "    icd10_codes_cond_str=\"'\"+\"','\".join(icd10_codes_cond)+\"'\"\n",
    "    \n",
    "    ## ICD Codes in observation \n",
    "    \n",
    "    icd9_codes_obs=np.intersect1d(observation_icd9,phecodes[phecodes['vocabulary_id']=='ICD9CM'][\"code\"].tolist()).tolist()\n",
    "    #\n",
    "    icd9_codes_obs_str=\"'\"+\"','\".join(icd9_codes_obs)+\"'\"\n",
    "    \n",
    "    icd10_codes_obs=np.intersect1d(observation_icd10,phecodes[phecodes['vocabulary_id']=='ICD10CM'][\"code\"].tolist()).tolist()\n",
    "    icd10_codes_obs_str=\"'\"+\"','\".join(icd10_codes_obs)+\"'\"\n",
    "    \n",
    "    # there's a subtlety here that we need icd10 cm\n",
    "    query=\"\"\"SELECT DISTINCT icd.person_id,condition_start_date as start_date,condition_concept_id as cid,concept_code,vocabulary_id FROM `\"\"\"+CDR_version+\"\"\".concept` \n",
    "    c  INNER JOIN `\"\"\"+CDR_version+\"\"\".condition_occurrence` icd  ON icd.condition_source_concept_id=c.concept_id  \n",
    "    WHERE vocabulary_id ='ICD9CM' AND  concept_code IN (\"\"\"+icd9_codes_cond_str+\"\"\") \n",
    "    ORDER BY condition_start_date\"\"\"\n",
    "    icdcodes1_cond=pd.read_gbq(query, dialect=\"standard\")\n",
    "    query=\"\"\"SELECT DISTINCT icd.person_id,condition_start_date as start_date,condition_concept_id as cid,concept_code, vocabulary_id FROM `\"\"\"+CDR_version+\"\"\".concept` \n",
    "    c  INNER JOIN `\"\"\"+CDR_version+\"\"\".condition_occurrence` icd  ON c.concept_id = icd.condition_source_concept_id  \n",
    "    WHERE vocabulary_id ='ICD10CM' AND  concept_code IN (\"\"\"+icd10_codes_cond_str+\"\"\")\n",
    "    ORDER BY condition_start_date\"\"\"\n",
    "    icdcodes2_cond=pd.read_gbq(query, dialect=\"standard\")\n",
    "    \n",
    "    #Now observations \n",
    "    \n",
    "    query=\"\"\"SELECT DISTINCT icd.person_id,observation_date as start_date, observation_concept_id as cid,concept_code,vocabulary_id FROM `\"\"\"+CDR_version+\"\"\".concept` \n",
    "    c  INNER JOIN `\"\"\"+CDR_version+\"\"\".observation` icd  ON icd.observation_source_concept_id=c.concept_id  \n",
    "    WHERE vocabulary_id ='ICD9CM' AND  concept_code IN (\"\"\"+icd9_codes_obs_str+\"\"\") \n",
    "    ORDER BY start_date\"\"\"\n",
    "    icdcodes1_obs=pd.read_gbq(query, dialect=\"standard\")\n",
    "    query=\"\"\"SELECT DISTINCT icd.person_id,observation_date as start_date,observation_concept_id as cid, concept_code, vocabulary_id FROM `\"\"\"+CDR_version+\"\"\".concept` \n",
    "    c  INNER JOIN `\"\"\"+CDR_version+\"\"\".observation` icd  ON c.concept_id = icd.observation_source_concept_id  \n",
    "    WHERE vocabulary_id ='ICD10CM' AND  concept_code IN (\"\"\"+icd10_codes_obs_str+\"\"\")\n",
    "    ORDER BY start_date\"\"\"\n",
    "    \n",
    "    icdcodes2_obs=pd.read_gbq(query, dialect=\"standard\")\n",
    "    \n",
    "    icdcodes=pd.concat([icdcodes1_cond,icdcodes2_cond,icdcodes1_obs,icdcodes2_obs]).drop_duplicates() # drop duplicates within vocab, person id and date\n",
    "\n",
    "    patients_phcode_count=icdcodes[[\"person_id\",\"start_date\",\"concept_code\",\"vocabulary_id\"]].drop_duplicates()[[\"person_id\",\"concept_code\",\"start_date\",\"vocabulary_id\"]]\n",
    "\n",
    "    patients_phcode_count=pd.merge(phecodes[[\"code\",\"phecode\",\"vocabulary_id\"]],patients_phcode_count,left_on=[\"code\", \"vocabulary_id\"],right_on=[\"concept_code\", \"vocabulary_id\"])\n",
    "\n",
    "    return_dict[phecodes_batch]=patients_phcode_count"
   ]
  },
  {
   "cell_type": "code",
   "execution_count": null,
   "metadata": {},
   "outputs": [],
   "source": [
    "## Batch get the phecodes \n",
    "def phecode_counts(num_processes, phecodes_list, CDR_version):\n",
    "    size = int(np.ceil(len(phecodes_list)/num_processes))\n",
    "    print(\"Processing phecodes in blocks of size: \" + str(size))\n",
    "\n",
    "    manager = multiprocessing.Manager()\n",
    "    return_dict = manager.dict()\n",
    "    jobs = []\n",
    "    for i in range(num_processes):\n",
    "        p = multiprocessing.Process(target=getPhecodeParticipants, args=(i,return_dict, phecodes_list, CDR_version, num_processes)) #phecodes list needs to be included \n",
    "        jobs.append(p)\n",
    "        p.start()\n",
    "    # close out and join jobs \n",
    "    for proc in jobs:\n",
    "        proc.join()\n",
    "    # make into a dataframe \n",
    "    phecodes_patients_list=pd.concat(list(return_dict.values()))\n",
    "\n",
    "    # now merge to rollup map \n",
    "    # Adjust to including the observation table\n",
    "\n",
    "    phecodes_patients_list_merge = pd.merge(rollup_map, phecodes_patients_list,left_on = 'code', right_on = 'phecode')[[\"person_id\",\"phecode_unrolled\",\"start_date\"]].drop_duplicates()\n",
    "    ## clean a little bit more \n",
    "    # get rid of any additional\n",
    "    # Including the observation table\n",
    "    phecodes_patients_counts_tmp=phecodes_patients_list_merge[[\"person_id\",\"phecode_unrolled\",\"start_date\"]].groupby([\"person_id\",\"phecode_unrolled\"],as_index=False).count()\n",
    "    #\n",
    "    ## so as not to break the other code\n",
    "    phecodes_patients_counts_tmp.columns = [\"person_id\", \"phecode\", 'count']\n",
    "    \n",
    "    return(phecodes_patients_counts_tmp)"
   ]
  },
  {
   "cell_type": "code",
   "execution_count": null,
   "metadata": {},
   "outputs": [],
   "source": [
    "com_phecode_list = [phecode for phecode in phecodes_list if phecode in [296.1, 295.1, 317, 316, 296.22]]\n",
    "phecodes_patients_counts = phecode_counts(num_processes=36, \n",
    "                                          phecodes_list=com_phecode_list, \n",
    "                                          CDR_version = CDR_version)"
   ]
  },
  {
   "cell_type": "code",
   "execution_count": null,
   "metadata": {},
   "outputs": [],
   "source": [
    "phecodes_patients_counts.to_csv(\"./phecode_counts_allofUs.csv\")"
   ]
  }
 ],
 "metadata": {
  "kernelspec": {
   "display_name": "Python 3",
   "language": "python",
   "name": "python3"
  },
  "language_info": {
   "codemirror_mode": {
    "name": "ipython",
    "version": 3
   },
   "file_extension": ".py",
   "mimetype": "text/x-python",
   "name": "python",
   "nbconvert_exporter": "python",
   "pygments_lexer": "ipython3",
   "version": "3.10.12"
  },
  "toc": {
   "base_numbering": 1,
   "nav_menu": {},
   "number_sections": true,
   "sideBar": true,
   "skip_h1_title": false,
   "title_cell": "Table of Contents",
   "title_sidebar": "Contents",
   "toc_cell": false,
   "toc_position": {},
   "toc_section_display": true,
   "toc_window_display": false
  }
 },
 "nbformat": 4,
 "nbformat_minor": 2
}
