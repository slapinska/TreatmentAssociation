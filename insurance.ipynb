{
 "cells": [
  {
   "cell_type": "code",
   "execution_count": 120,
   "metadata": {},
   "outputs": [],
   "source": [
    "import numpy as np\n",
    "import pandas as pd\n",
    "import matplotlib as mpl\n",
    "import seaborn as sb\n",
    "import matplotlib.pyplot as plt\n",
    "from datetime import datetime\n",
    "import math\n",
    "from IPython.display import display, HTML\n",
    "from datetime import date\n",
    "import os"
   ]
  },
  {
   "cell_type": "code",
   "execution_count": 121,
   "metadata": {},
   "outputs": [],
   "source": [
    "my_bucket = os.getenv('WORKSPACE_BUCKET')\n",
    "CDR_version=os.getenv(\"WORKSPACE_CDR\")"
   ]
  },
  {
   "cell_type": "code",
   "execution_count": 122,
   "metadata": {},
   "outputs": [],
   "source": [
    "# SQL query for getting the participant IDs for cohort\n",
    "query = (\"\"\"\n",
    "SELECT DISTINCT person_id, question, question_concept_id, answer\n",
    "FROM `\"\"\"+ str(CDR_version) +\"\"\".ds_survey` \n",
    "WHERE question_concept_id in (1585386, 43528428)\n",
    "ORDER BY person_id\n",
    "\"\"\")\n",
    "insurance = pd.read_gbq(query, dialect=\"standard\")"
   ]
  },
  {
   "cell_type": "markdown",
   "metadata": {},
   "source": [
    "The classes include “Public”, “Private” or “Self-pay”. <br> \n",
    "Public class includes ‘Medicare’, ‘Medicare Advantage’, ‘Medicare Assigned’, ‘Medi-Cal’, ‘Medicaid’, and ‘Medi-Cal Assigned’. <br>\n",
    "Private class includes ‘International Payor’, ‘Group Health Plan’, ‘Worker’s Comp’, ‘Tricare’, ‘UCLA Managed Care’, ‘Blue Shield’, ’Commercial’, ’Blue Cross’, ‘Package Billing’ and ‘Other’."
   ]
  },
  {
   "cell_type": "code",
   "execution_count": 124,
   "metadata": {},
   "outputs": [],
   "source": [
    "def extract_value(answer):\n",
    "    parts = answer.split(': ')\n",
    "    return parts[1] if len(parts) > 1 else answer\n",
    "\n",
    "# Apply function to extract values\n",
    "insurance['answer'] = insurance['answer'].apply(extract_value)\n",
    "\n",
    "def insurance_class(answer):\n",
    "    if answer in ['Medicare', 'Medicaid']:\n",
    "        return 'Public'\n",
    "    elif answer in ['Employer Or Union', 'VA', 'Other Health Plan', 'Military', 'Indian']:\n",
    "        return 'Private'\n",
    "    elif answer in ['Purchased']:\n",
    "        return 'Self-pay'\n",
    "    elif answer in ['No']:\n",
    "        return 'No'\n",
    "    elif answer in ['Skip', 'Prefer Not To Answer', 'Dont Know', 'None', 'Invalid']:\n",
    "        return 'Unknown'\n",
    "\n",
    "insurance['case'] = insurance['answer'].apply(insurance_class)  \n",
    "insurance.loc[insurance['answer'].str.contains('Yes'), 'case'] = 'Yes'"
   ]
  },
  {
   "cell_type": "code",
   "execution_count": 125,
   "metadata": {},
   "outputs": [],
   "source": [
    "merged_insurance = insurance.groupby(['person_id'])['case'].apply(lambda x: ','.join(x)).reset_index()"
   ]
  },
  {
   "cell_type": "code",
   "execution_count": 126,
   "metadata": {},
   "outputs": [],
   "source": [
    "# Function to extract value\n",
    "import re\n",
    "def extract_value(response):\n",
    "    # Check if 'Yes' is the only thing in the string\n",
    "    if response.strip() == 'Yes':\n",
    "        return 'Yes'\n",
    "    \n",
    "    # Remove 'Yes' from the response if it's accompanied by other values\n",
    "    cleaned_response = re.sub(r'\\bYes\\b,? ?', '', response)\n",
    "    \n",
    "    # Split the cleaned response by commas to extract all remaining values\n",
    "    remaining_values = cleaned_response.split(',')\n",
    "    \n",
    "    # Remove leading and trailing whitespace from each value and return the first one\n",
    "    remaining_values = [value.strip() for value in remaining_values if value.strip()]\n",
    "    \n",
    "    if remaining_values:\n",
    "        return ', '.join(remaining_values)\n",
    "    else:\n",
    "        return response"
   ]
  },
  {
   "cell_type": "code",
   "execution_count": 127,
   "metadata": {},
   "outputs": [],
   "source": [
    "# Function to extract value\n",
    "def change_duplicates(response):\n",
    "    # Split the response by commas\n",
    "    values = response.split(', ')\n",
    "    \n",
    "    # Keep only unique values\n",
    "    unique_values = list(set(values))\n",
    "    \n",
    "    # Join the unique values back together with commas\n",
    "    return ', '.join(unique_values)"
   ]
  },
  {
   "cell_type": "code",
   "execution_count": 128,
   "metadata": {},
   "outputs": [],
   "source": [
    "def more_than_one_option(response):\n",
    "    if response not in ['Private', 'Public', 'No', 'Yes', 'Self-pay', 'Unknown']:\n",
    "        return 'Yes'\n",
    "    else:\n",
    "        return response"
   ]
  },
  {
   "cell_type": "code",
   "execution_count": 129,
   "metadata": {},
   "outputs": [],
   "source": [
    "merged_insurance['case_adjusted'] = merged_insurance['case'].apply(extract_value)"
   ]
  },
  {
   "cell_type": "code",
   "execution_count": 130,
   "metadata": {},
   "outputs": [],
   "source": [
    "merged_insurance['case_adjusted'] = merged_insurance['case_adjusted'].apply(change_duplicates)"
   ]
  },
  {
   "cell_type": "code",
   "execution_count": 131,
   "metadata": {},
   "outputs": [],
   "source": [
    "merged_insurance['case_adjusted'] = merged_insurance['case_adjusted'].apply(more_than_one_option)"
   ]
  },
  {
   "cell_type": "code",
   "execution_count": 132,
   "metadata": {},
   "outputs": [
    {
     "data": {
      "text/plain": [
       "case_adjusted\n",
       "Private     142452\n",
       "Public      126725\n",
       "Yes          88393\n",
       "No           26779\n",
       "Self-pay     14553\n",
       "Unknown      12668\n",
       "Name: count, dtype: int64"
      ]
     },
     "execution_count": 132,
     "metadata": {},
     "output_type": "execute_result"
    }
   ],
   "source": [
    "# some patients could select more than one option, so all those are just included as 'yes'\n",
    "merged_insurance.case_adjusted.value_counts()"
   ]
  },
  {
   "cell_type": "code",
   "execution_count": 135,
   "metadata": {},
   "outputs": [],
   "source": [
    "insurance_forModel = merged_insurance[['person_id', 'case_adjusted']]"
   ]
  },
  {
   "cell_type": "code",
   "execution_count": 137,
   "metadata": {},
   "outputs": [],
   "source": [
    "insurance_forModel.to_csv(\"./insurance_class_allofUs.csv\")"
   ]
  },
  {
   "cell_type": "code",
   "execution_count": 138,
   "metadata": {},
   "outputs": [
    {
     "name": "stdout",
     "output_type": "stream",
     "text": [
      "Copying file://./insurance_class_allofUs.csv [Content-Type=text/csv]...\n",
      "\\ [1 files][  8.4 MiB/  8.4 MiB]                                                \n",
      "Operation completed over 1 objects/8.4 MiB.                                      \n"
     ]
    }
   ],
   "source": [
    "!gsutil cp ./insurance_class_allofUs.csv {my_bucket}/insurance_class_allofUs.csv"
   ]
  },
  {
   "cell_type": "code",
   "execution_count": null,
   "metadata": {},
   "outputs": [],
   "source": []
  }
 ],
 "metadata": {
  "kernelspec": {
   "display_name": "Python 3",
   "language": "python",
   "name": "python3"
  },
  "language_info": {
   "codemirror_mode": {
    "name": "ipython",
    "version": 3
   },
   "file_extension": ".py",
   "mimetype": "text/x-python",
   "name": "python",
   "nbconvert_exporter": "python",
   "pygments_lexer": "ipython3",
   "version": "3.10.12"
  },
  "toc": {
   "base_numbering": 1,
   "nav_menu": {},
   "number_sections": true,
   "sideBar": true,
   "skip_h1_title": false,
   "title_cell": "Table of Contents",
   "title_sidebar": "Contents",
   "toc_cell": false,
   "toc_position": {},
   "toc_section_display": true,
   "toc_window_display": false
  }
 },
 "nbformat": 4,
 "nbformat_minor": 2
}
