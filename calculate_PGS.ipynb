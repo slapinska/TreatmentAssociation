{
 "cells": [
  {
   "cell_type": "markdown",
   "metadata": {},
   "source": [
    "### Download wrapper function for plink"
   ]
  },
  {
   "cell_type": "code",
   "execution_count": null,
   "metadata": {},
   "outputs": [],
   "source": [
    "!pip install -U cython numpy"
   ]
  },
  {
   "cell_type": "code",
   "execution_count": null,
   "metadata": {},
   "outputs": [],
   "source": [
    "!git clone https://github.com/KangchengHou/dask-pgen.git"
   ]
  },
  {
   "cell_type": "code",
   "execution_count": null,
   "metadata": {},
   "outputs": [],
   "source": [
    "!cd dask-pgen; pip install -e ."
   ]
  },
  {
   "cell_type": "code",
   "execution_count": null,
   "metadata": {},
   "outputs": [],
   "source": [
    "!chmod +x dask-pgen/bin/dapgen"
   ]
  },
  {
   "cell_type": "code",
   "execution_count": null,
   "metadata": {},
   "outputs": [],
   "source": [
    "!./dask-pgen/bin/dapgen score"
   ]
  },
  {
   "cell_type": "code",
   "execution_count": null,
   "metadata": {},
   "outputs": [],
   "source": [
    "import pandas as pd\n",
    "import numpy as np\n",
    "import os\n",
    "import seaborn as sns\n",
    "import matplotlib.pyplot as plt\n",
    "import glob\n",
    "import seaborn as sns\n",
    "from tqdm import tqdm\n",
    "from IPython.display import display, Markdown, Latex\n",
    "\n",
    "DATASET = os.getenv('WORKSPACE_CDR')\n",
    "bucket = os.getenv('WORKSPACE_BUCKET')\n",
    "print(f\"DATASET={DATASET}\")\n",
    "print(f\"bucket={bucket}\")\n",
    "\n",
    "LOCALDIR = \"pgs-test\"\n",
    "!mkdir -p {LOCALDIR}/genotype/\n",
    "!mkdir -p {LOCALDIR}/pgs_file/\n",
    "!gsutil ls gs://path/to/genotype/\n",
    "!gsutil cp gs://path/to/genotype/* {LOCALDIR}/genotype/\n",
    "\n",
    "\n",
    "pgs_dict = {\n",
    "    \"PGS004759\": \"PGS_Catalog\",\n",
    "}\n",
    "\n",
    "column_dict = {\n",
    "    \"hm_chr\": \"CHROM\",\n",
    "    \"hm_pos\": \"POS\",\n",
    "    \"other_allele\": \"REF\",\n",
    "    \"effect_allele\": \"ALT\",\n",
    "    \"effect_weight\": \"WEIGHT\"\n",
    "}\n",
    "\n",
    "for pgs_id in tqdm(pgs_dict.keys()):\n",
    "    pgs_df = pd.read_csv(\n",
    "        \"https://ftp.ebi.ac.uk/pub/databases/spot/pgs/scores/\" + \n",
    "        f\"{pgs_id}/ScoringFiles/Harmonized/{pgs_id}_hmPOS_GRCh38.txt.gz\", \n",
    "        sep='\\t', comment='#', low_memory=False\n",
    "    )[column_dict.keys()].rename(columns=column_dict)\n",
    "    print(f\"{len(pgs_df)} SNPs for {pgs_id}/{pgs_dict[pgs_id]}\")\n",
    "    pgs_df[\"CHROM\"] = pgs_df[\"CHROM\"].astype(str)\n",
    "    pgs_df = pgs_df[pgs_df.CHROM.isin(np.arange(1, 23).astype(str))].dropna()\n",
    "    pgs_df['POS'] = pgs_df[\"POS\"].astype(int)\n",
    "    pgs_df.to_csv(f\"{LOCALDIR}/pgs_file/{pgs_id}.weight.tsv\", sep='\\t', index=False)\n",
    "    print(f\"{len(pgs_df)} SNPs for after filtering\")\n",
    "    \n",
    "    !./dask-pgen/bin/dapgen score \\\n",
    "        --plink \"{LOCALDIR}/genotype/*.bed\" \\\n",
    "        --weights {LOCALDIR}/pgs_file/{pgs_id}.weight.tsv \\\n",
    "        --out {LOCALDIR}/pgs_file/{pgs_id}.score.tsv \\\n",
    "        --chrom-col CHROM --pos-col POS --alt-col ALT --ref-col REF --weight-col-prefix WEIGHT \\\n",
    "        --threads 12 --memory 30000"
   ]
  },
  {
   "cell_type": "code",
   "execution_count": null,
   "metadata": {},
   "outputs": [],
   "source": [
    "# Calculate PGS using weights from Als et al. \n",
    "column_dict = {\n",
    "    \"CHR\": \"CHROM\",\n",
    "    \"POS_hg37\": \"POS_37\",\n",
    "    \"POS_hg38\": \"POS\",\n",
    "    \"A1\": \"REF\",\n",
    "    \"A2\": \"ALT\",\n",
    "    \"WEIGHT\": \"WEIGHT\"\n",
    "}\n",
    "\n",
    "pgs_df = pd.read_csv(\n",
    "    \"./pgs-test/score/als_weights_pgs_hg38.txt\",\n",
    "    sep='\\t', low_memory=False\n",
    ")[column_dict.keys()].rename(columns=column_dict)\n",
    "print(f\"{len(pgs_df)} SNPs\")\n",
    "pgs_df[\"CHROM\"] = pgs_df[\"CHROM\"].astype(str)\n",
    "pgs_df = pgs_df[pgs_df.CHROM.isin(np.arange(1, 23).astype(str))].dropna()\n",
    "pgs_df['POS'] = pgs_df[\"POS\"].astype(int)\n",
    "pgs_df.to_csv(f\"{LOCALDIR}/pgs_file/MDD.weight.tsv\", sep='\\t', index=False)\n",
    "print(f\"{len(pgs_df)} SNPs for after filtering\")\n",
    "\n",
    "!./dask-pgen/bin/dapgen score \\\n",
    "        --plink \"{LOCALDIR}/genotype/*.bed\" \\\n",
    "        --weights {LOCALDIR}/pgs_file/MDD.weight.tsv \\\n",
    "        --out {LOCALDIR}/pgs_file/MDD.score.tsv \\\n",
    "        --chrom-col CHROM --pos-col POS --alt-col REF --ref-col ALT --weight-col-prefix WEIGHT \\\n",
    "        --threads 12 --memory 30000"
   ]
  }
 ],
 "metadata": {
  "kernelspec": {
   "display_name": "Python 3",
   "language": "python",
   "name": "python3"
  },
  "language_info": {
   "codemirror_mode": {
    "name": "ipython",
    "version": 3
   },
   "file_extension": ".py",
   "mimetype": "text/x-python",
   "name": "python",
   "nbconvert_exporter": "python",
   "pygments_lexer": "ipython3",
   "version": "3.10.12"
  },
  "toc": {
   "base_numbering": 1,
   "nav_menu": {},
   "number_sections": true,
   "sideBar": true,
   "skip_h1_title": false,
   "title_cell": "Table of Contents",
   "title_sidebar": "Contents",
   "toc_cell": false,
   "toc_position": {},
   "toc_section_display": true,
   "toc_window_display": false
  }
 },
 "nbformat": 4,
 "nbformat_minor": 2
}
