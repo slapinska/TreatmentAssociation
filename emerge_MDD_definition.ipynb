{
 "cells": [
  {
   "cell_type": "markdown",
   "metadata": {},
   "source": [
    "### eMERGE MDD definition\n",
    "Algorithm\n",
    "\n",
    "1. Has any instances (ever) of any diagnosis code for depression, and\n",
    "2. Fails to qualify by the 2/30/180 rule for diagnosis of depression with psychosis, and\n",
    "3. Qualifies by the 2/30/180 rule for diagnosis of major depression"
   ]
  },
  {
   "cell_type": "code",
   "execution_count": null,
   "metadata": {},
   "outputs": [],
   "source": [
    "%reload_ext google.cloud.bigquery\n",
    "from datetime import date\n",
    "import numpy as np\n",
    "import pandas as pd\n",
    "import matplotlib as mpl\n",
    "import seaborn as sns\n",
    "import matplotlib.pyplot as plt\n",
    "from datetime import datetime\n",
    "import dateutil\n",
    "from IPython.display import display, HTML\n",
    "import os\n",
    "\n",
    "dataset = os.getenv(\"WORKSPACE_CDR\")\n",
    "CDR_split=dataset.split(\".\")\n",
    "CDR_version=CDR_split[1]\n",
    "prefix = CDR_split[0]"
   ]
  },
  {
   "cell_type": "code",
   "execution_count": null,
   "metadata": {},
   "outputs": [],
   "source": [
    "query=\"\"\"SELECT DISTINCT person.person_id\n",
    "    ,gender_concept_id,race_concept_id,year_of_birth\n",
    "    FROM \n",
    "    `\"\"\"+prefix+\"\"\".\"\"\"+CDR_version+\"\"\".person` person \n",
    "    WHERE\n",
    "        person.PERSON_ID IN (SELECT\n",
    "            distinct person_id  \n",
    "        FROM\n",
    "            `\"\"\"+prefix+\"\"\".\"\"\"+CDR_version+\"\"\".cb_search_person` cb_search_person  \n",
    "        WHERE\n",
    "            cb_search_person.person_id IN (SELECT\n",
    "                person_id \n",
    "            FROM\n",
    "                `\"\"\"+prefix+\"\"\".\"\"\"+CDR_version+\"\"\".cb_search_person` p \n",
    "            WHERE\n",
    "                has_whole_genome_variant = 1 ) )\"\"\"\n",
    "\n",
    "demo_patients=pd.read_gbq(query, dialect=\"standard\",\n",
    "    use_bqstorage_api=(\"BIGQUERY_STORAGE_API_ENABLED\" in os.environ),\n",
    "    progress_bar_type=\"tqdm_notebook\")"
   ]
  },
  {
   "cell_type": "code",
   "execution_count": null,
   "metadata": {},
   "outputs": [],
   "source": [
    "type1_icd9 = \",\".join([\"'\"+code+\"'\" for code in ['296.34', '298']])\n",
    "type1_icd10 = \",\".join([\"'\"+code+\"'\" for code in ['F32.3', 'F33.3']])"
   ]
  },
  {
   "cell_type": "code",
   "execution_count": null,
   "metadata": {},
   "outputs": [],
   "source": [
    "type2_icd9 = \",\".join([\"'\"+code+\"'\" for code in [\"296.2\", \"296.21\", \"296.22\", \"296.23\", \"296.25\", \"296.26\", \n",
    "                                                 \"296.3\", \"296.31\", \"296.32\", \"296.33\", \"296.35\", \"296.36\" ]])\n",
    "type2_icd10 = \",\".join([\"'\"+code+\"'\" for code in [\"F32.0\", \"F32.1\", \"F32.2\", \"F32.4\", \"F32.5\", \"F32.9\", \n",
    "                                                  \"F33.0\", \"F33.1\", \"F33.2\", \"F33.40\", \"F33.41\", \"F33.42\", \n",
    "                                                  \"F33.9\"]])"
   ]
  },
  {
   "cell_type": "code",
   "execution_count": null,
   "metadata": {},
   "outputs": [],
   "source": [
    "type3_icd9 = \",\".join([\"'\"+code+\"'\" for code in [\"311\", \"300.4\", \"309.1\"]])\n",
    "type3_icd10 = \",\".join([\"'\"+code+\"'\" for code in [\"F32.89\", \"F33.8\", \"F43.21\"]])"
   ]
  },
  {
   "cell_type": "code",
   "execution_count": null,
   "metadata": {},
   "outputs": [],
   "source": [
    "exlude_from_control_icd9 = \",\".join([\"'\"+code+\"'\" for code in [\"296.24\", \"296.82\", \"301.12\", \"301.13\", \"309\"]])\n",
    "exlude_from_control_icd10 = \",\".join([\"'\"+code+\"'\" for code in [\"F06.32\", \"F06.31\", \"F32.81\", \"F34.0\", \"F34.1\", \n",
    "                                                                \"F34.81\", \"F34.89\", \"F34.9\", \"F39\", \"F43.23\", \n",
    "                                                                \"F53\"]])"
   ]
  },
  {
   "cell_type": "code",
   "execution_count": null,
   "metadata": {},
   "outputs": [],
   "source": [
    "all_codes_icd9 = \",\".join([\"'\"+code+\"'\" for code in ['296.34', '298', \"296.2\", \"296.21\", \"296.22\", \"296.23\", \n",
    "                                                     \"296.25\", \"296.26\", \"296.3\", \"296.31\", \"296.32\", \n",
    "                                                     \"296.33\", \"296.35\", \"296.36\", \"311\", \"300.4\", \"309.1\"]])\n",
    "all_codes_icd10 = \",\".join([\"'\"+code+\"'\" for code in ['F32.3', 'F33.3', \"F32.0\", \"F32.1\", \"F32.2\", \"F32.4\", \n",
    "                                                      \"F32.5\", \"F32.9\", \"F33.0\", \"F33.1\", \"F33.2\", \"F33.40\", \n",
    "                                                      \"F33.41\", \"F33.42\",\"F33.9\", \"F32.89\", \"F33.8\", \"F43.21\"]])"
   ]
  },
  {
   "cell_type": "code",
   "execution_count": null,
   "metadata": {},
   "outputs": [],
   "source": [
    "query = (\"\"\"\n",
    "SELECT distinct * \n",
    "FROM \n",
    "    (SELECT DISTINCT person_id, condition_source_concept_id, condition_source_value, condition_start_date \n",
    "        FROM `\"\"\"+prefix+\"\"\".\"\"\"+ str(CDR_version) +\"\"\".condition_occurrence`) AS cond \n",
    "     INNER JOIN \n",
    "        (SELECT DISTINCT concept_id, concept_name, concept_code, vocabulary_id \n",
    "            FROM `\"\"\"+prefix+\"\"\".\"\"\"+str(CDR_version)+\"\"\".concept` \n",
    "            where (concept_code in (\"\"\"+all_codes_icd9+\"\"\") \n",
    "            and vocabulary_id ='ICD9CM') or (concept_code in (\"\"\"+all_codes_icd10+\"\"\")\n",
    "            and vocabulary_id ='ICD10CM')) as concept \n",
    "            on concept.concept_id = cond.condition_source_concept_id\n",
    "\"\"\")\n",
    "all_dep_codes = pd.read_gbq(query, dialect=\"standard\")"
   ]
  },
  {
   "cell_type": "code",
   "execution_count": null,
   "metadata": {},
   "outputs": [],
   "source": [
    "def _aggregate(x):\n",
    "        d = {}\n",
    "        distances =x.condition_start_date.diff()\n",
    "        d['at_least_30_days_and_no_more_than_180_days'] = np.any((np.abs(distances.dt.days)>=30) & \n",
    "                                                                 (np.abs(distances.dt.days)<=180))\n",
    "        d['Count'] = len(x)\n",
    "        d['condition_start_date'] = x['condition_start_date'].min()\n",
    "        return pd.Series(d, index=['at_least_30_days_and_no_more_than_180_days', 'Count', 'condition_start_date'])\n",
    "\n",
    "# find and then exclude all patients that qualitfy for depression with psychosis by 2/30/180 rule (type 1)\n",
    "type1_inds = all_dep_codes.loc[all_dep_codes['concept_code'].isin(['296.34', '298',\n",
    "                                                                  'F32.3', 'F33.3'])]\n",
    "type1_inds_nodups = type1_inds.drop_duplicates(subset=['person_id', 'condition_start_date', 'concept_code'])\n",
    "type1_inds_nodups.sort_values(by='condition_start_date', inplace=True)\n",
    "type1_inds_nodups = type1_inds_nodups.groupby(['person_id'], as_index=False).apply(_aggregate)\n",
    "type1_final = type1_inds_nodups[(type1_inds_nodups.Count>=2)&\n",
    "                                (type1_inds_nodups.at_least_30_days_and_no_more_than_180_days)]\n",
    "\n",
    "dep_cases_notype1 = all_dep_codes.loc[~all_dep_codes['person_id'].isin(type1_final['person_id'])]"
   ]
  },
  {
   "cell_type": "code",
   "execution_count": null,
   "metadata": {},
   "outputs": [],
   "source": [
    "# qualifies for MDD by 2/30/180 rule (type 2)\n",
    "dep_cases_notype1 = dep_cases_notype1.loc[all_dep_codes['concept_code'].isin([\"296.2\", \"296.21\", \"296.22\", \"296.23\", \n",
    "                                                                   \"296.25\", \"296.26\",\"296.3\", \"296.31\", \n",
    "                                                                   \"296.32\", \"296.33\", \"296.35\", \"296.36\",\n",
    "                                                                   \"F32.0\", \"F32.1\", \"F32.2\", \"F32.4\", \n",
    "                                                                   \"F32.5\", \"F32.9\", \"F33.0\", \"F33.1\", \n",
    "                                                                   \"F33.2\", \"F33.40\", \"F33.41\", \"F33.42\", \n",
    "                                                                   \"F33.9\"])]\n",
    "type2_nodups = dep_cases_notype1.drop_duplicates(subset=['person_id', 'condition_start_date', 'concept_code'])\n",
    "type2_nodups.sort_values(by='condition_start_date', inplace=True)\n",
    "type2_nodups = type2_nodups.groupby(['person_id'], as_index=False).apply(_aggregate)\n",
    "type2_final = type2_nodups[(type2_nodups.Count>=2)&\n",
    "                                (type2_nodups.at_least_30_days_and_no_more_than_180_days)]\n"
   ]
  },
  {
   "cell_type": "code",
   "execution_count": null,
   "metadata": {},
   "outputs": [],
   "source": [
    "#only want the cases for the genotyped individuals \n",
    "cases = type2_final[type2_final[\"person_id\"].isin(demo_patients['person_id'])]\n",
    "print(cases.shape)\n",
    "cases.to_csv(\"MDD_cases_emerge_algorithm.csv\")"
   ]
  },
  {
   "cell_type": "code",
   "execution_count": null,
   "metadata": {},
   "outputs": [],
   "source": [
    "## Get Controls\n",
    "\n",
    "all_codes_icd9_for_controls = \",\".join([\"'\"+code+\"'\" for code in ['296.34', '298', \"296.2\", \"296.21\", \"296.22\", \"296.23\", \n",
    "                                                     \"296.25\", \"296.26\", \"296.3\", \"296.31\", \"296.32\", \n",
    "                                                     \"296.33\", \"296.35\", \"296.36\", \"311\", \"300.4\", \"309.1\",\n",
    "                                                                 \"296.24\", \"296.82\", \"301.12\", \"301.13\", \"309\"]])\n",
    "all_codes_icd10_for_controls = \",\".join([\"'\"+code+\"'\" for code in ['F32.3', 'F33.3', \"F32.0\", \"F32.1\", \"F32.2\", \"F32.4\", \n",
    "                                                      \"F32.5\", \"F32.9\", \"F33.0\", \"F33.1\", \"F33.2\", \"F33.40\", \n",
    "                                                      \"F33.41\", \"F33.42\",\"F33.9\", \"F32.89\", \"F33.8\", \"F43.21\",\n",
    "                                                                  \"F06.32\", \"F06.31\", \"F32.81\", \"F34.0\", \"F34.1\", \n",
    "                                                                \"F34.81\", \"F34.89\", \"F34.9\", \"F39\", \"F43.23\", \n",
    "                                                                \"F53\"]])"
   ]
  },
  {
   "cell_type": "code",
   "execution_count": null,
   "metadata": {},
   "outputs": [],
   "source": [
    "query = (\"\"\"\n",
    "SELECT distinct person_id  \n",
    "FROM \n",
    "    (SELECT DISTINCT person_id, condition_source_concept_id, condition_source_value \n",
    "        FROM `\"\"\"+prefix+\"\"\".\"\"\"+ str(CDR_version) +\"\"\".condition_occurrence`) AS cond \n",
    "     INNER JOIN \n",
    "        (SELECT DISTINCT concept_id, concept_name, concept_code, vocabulary_id \n",
    "            FROM `\"\"\"+prefix+\"\"\".\"\"\"+str(CDR_version)+\"\"\".concept` \n",
    "            where (concept_code in (\"\"\"+all_codes_icd9_for_controls+\"\"\") \n",
    "            and vocabulary_id ='ICD9CM') or (concept_code in (\"\"\"+all_codes_icd10_for_controls+\"\"\")\n",
    "            and vocabulary_id ='ICD10CM')) as concept \n",
    "            on concept.concept_id = cond.condition_source_concept_id\n",
    "\"\"\")\n",
    "control_dep_codes = pd.read_gbq(query, dialect=\"standard\")"
   ]
  },
  {
   "cell_type": "code",
   "execution_count": null,
   "metadata": {},
   "outputs": [],
   "source": [
    "#only want the controls for the genotyped individuals \n",
    "controls = demo_patients[~demo_patients[\"person_id\"].isin(control_dep_codes['person_id'])]\n",
    "controls.shape\n",
    "controls.to_csv(\"./Controls_emerge_definition.csv\")"
   ]
  },
  {
   "cell_type": "code",
   "execution_count": null,
   "metadata": {},
   "outputs": [],
   "source": [
    "controls['Case'] = 0 \n",
    "cases['Case'] = 1\n",
    "cases = cases[['person_id', 'Case']]\n",
    "controls = controls[['person_id', 'Case']]\n",
    "cases_and_controls = pd.concat([cases, controls])"
   ]
  },
  {
   "cell_type": "code",
   "execution_count": null,
   "metadata": {},
   "outputs": [],
   "source": [
    "cases_and_controls.to_csv(\"MDDcases_control_emerge_definition.csv\")"
   ]
  },
  {
   "cell_type": "code",
   "execution_count": null,
   "metadata": {},
   "outputs": [],
   "source": []
  }
 ],
 "metadata": {
  "kernelspec": {
   "display_name": "Python 3",
   "language": "python",
   "name": "python3"
  },
  "language_info": {
   "codemirror_mode": {
    "name": "ipython",
    "version": 3
   },
   "file_extension": ".py",
   "mimetype": "text/x-python",
   "name": "python",
   "nbconvert_exporter": "python",
   "pygments_lexer": "ipython3",
   "version": "3.10.12"
  },
  "toc": {
   "base_numbering": 1,
   "nav_menu": {},
   "number_sections": true,
   "sideBar": true,
   "skip_h1_title": false,
   "title_cell": "Table of Contents",
   "title_sidebar": "Contents",
   "toc_cell": false,
   "toc_position": {},
   "toc_section_display": true,
   "toc_window_display": false
  }
 },
 "nbformat": 4,
 "nbformat_minor": 2
}
